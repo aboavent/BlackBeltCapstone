{
 "cells": [
  {
   "cell_type": "markdown",
   "metadata": {},
   "source": [
    "## Model Training and Development\n",
    "Linear Learner"
   ]
  },
  {
   "cell_type": "code",
   "execution_count": 4,
   "metadata": {},
   "outputs": [],
   "source": [
    "##Setup\n",
    "import sagemaker\n",
    "sess = sagemaker.Session()\n",
    "bucket=sess.default_bucket()\n",
    "prefix = 'sagemakerbankfraud-xgboost'\n",
    "\n",
    "# Define IAM role\n",
    "\n",
    "import re\n",
    "from sagemaker import get_execution_role\n",
    "\n",
    "role = get_execution_role()"
   ]
  },
  {
   "cell_type": "code",
   "execution_count": 51,
   "metadata": {},
   "outputs": [],
   "source": [
    "#Import all potential libraries\n",
    "import boto3\n",
    "import numpy as np                                # For matrix operations and numerical processing\n",
    "import pandas as pd                               # For munging tabular data\n",
    "from IPython.display import Image                 # For displaying images in the notebook\n",
    "from IPython.display import display               # For displaying outputs in the notebook\n",
    "from time import gmtime, strftime                 # For labeling SageMaker models, endpoints, etc.\n",
    "import sklearn\n",
    "from sagemaker.inputs import TrainingInput\n",
    "from sagemaker.serializers import CSVSerializer\n",
    "import csv\n",
    "import seaborn as sns\n",
    "sns.set_style('white')                            #Set theme for Seaborn\n",
    "import matplotlib.pyplot as plt                   # For charts and visualizations\n",
    "import sys                                        # For writing outputs to notebook\n",
    "import os # For manipulating filepath names\n",
    "%matplotlib inline\n",
    "import io\n",
    "import json\n",
    "import sagemaker\n",
    "import sagemaker.amazon.common as smac\n",
    "from sagemaker import get_execution_role\n",
    "from sagemaker.predictor import csv_serializer, json_deserializer"
   ]
  },
  {
   "cell_type": "code",
   "execution_count": 4,
   "metadata": {},
   "outputs": [],
   "source": [
    "###read in preprocessed data from S3\n",
    "import boto3\n",
    "boto3.Session().resource('s3').Bucket(bucket).Object(os.path.join(prefix, 'preprocessed/preprocessed.csv')).download_file('preprocessed.csv')"
   ]
  },
  {
   "cell_type": "code",
   "execution_count": 11,
   "metadata": {},
   "outputs": [],
   "source": [
    "###read in csv file into dataframe\n",
    "data = pd.read_csv('preprocessed.csv')\n"
   ]
  },
  {
   "cell_type": "code",
   "execution_count": 12,
   "metadata": {},
   "outputs": [
    {
     "data": {
      "text/html": [
       "<div>\n",
       "<style scoped>\n",
       "    .dataframe tbody tr th:only-of-type {\n",
       "        vertical-align: middle;\n",
       "    }\n",
       "\n",
       "    .dataframe tbody tr th {\n",
       "        vertical-align: top;\n",
       "    }\n",
       "\n",
       "    .dataframe thead th {\n",
       "        text-align: right;\n",
       "    }\n",
       "</style>\n",
       "<table border=\"1\" class=\"dataframe\">\n",
       "  <thead>\n",
       "    <tr style=\"text-align: right;\">\n",
       "      <th></th>\n",
       "      <th>Unnamed: 0</th>\n",
       "      <th>isfraud</th>\n",
       "      <th>step</th>\n",
       "      <th>amount</th>\n",
       "      <th>oldbalanceorg</th>\n",
       "      <th>newbalanceorig</th>\n",
       "      <th>oldbalancedest</th>\n",
       "      <th>newbalancedest</th>\n",
       "      <th>morning</th>\n",
       "      <th>afternoon</th>\n",
       "      <th>evening</th>\n",
       "      <th>OrigCust</th>\n",
       "      <th>DestCust</th>\n",
       "      <th>TRANSFER</th>\n",
       "      <th>CASH_OUT</th>\n",
       "      <th>OrigAmountDiff</th>\n",
       "      <th>DestAmountDiff</th>\n",
       "    </tr>\n",
       "  </thead>\n",
       "  <tbody>\n",
       "    <tr>\n",
       "      <th>count</th>\n",
       "      <td>6.362620e+06</td>\n",
       "      <td>6.362620e+06</td>\n",
       "      <td>6.362620e+06</td>\n",
       "      <td>6.362620e+06</td>\n",
       "      <td>6.362620e+06</td>\n",
       "      <td>6.362620e+06</td>\n",
       "      <td>6.362620e+06</td>\n",
       "      <td>6.362620e+06</td>\n",
       "      <td>6.362620e+06</td>\n",
       "      <td>6.362620e+06</td>\n",
       "      <td>6.362620e+06</td>\n",
       "      <td>6362620.0</td>\n",
       "      <td>6.362620e+06</td>\n",
       "      <td>6.362620e+06</td>\n",
       "      <td>6.362620e+06</td>\n",
       "      <td>6.362620e+06</td>\n",
       "      <td>6.362620e+06</td>\n",
       "    </tr>\n",
       "    <tr>\n",
       "      <th>mean</th>\n",
       "      <td>3.184236e+06</td>\n",
       "      <td>1.290820e-03</td>\n",
       "      <td>3.266809e-01</td>\n",
       "      <td>1.945599e-03</td>\n",
       "      <td>1.399484e-02</td>\n",
       "      <td>1.724540e-02</td>\n",
       "      <td>3.091721e-03</td>\n",
       "      <td>3.439269e-03</td>\n",
       "      <td>3.482094e-01</td>\n",
       "      <td>3.234744e-01</td>\n",
       "      <td>3.283162e-01</td>\n",
       "      <td>0.0</td>\n",
       "      <td>6.618539e-01</td>\n",
       "      <td>8.375622e-02</td>\n",
       "      <td>3.516633e-01</td>\n",
       "      <td>9.986284e-01</td>\n",
       "      <td>1.165040e-01</td>\n",
       "    </tr>\n",
       "    <tr>\n",
       "      <th>std</th>\n",
       "      <td>1.836756e+06</td>\n",
       "      <td>3.590480e-02</td>\n",
       "      <td>1.918221e-01</td>\n",
       "      <td>6.532045e-03</td>\n",
       "      <td>4.847261e-02</td>\n",
       "      <td>5.897038e-02</td>\n",
       "      <td>9.547833e-03</td>\n",
       "      <td>1.031539e-02</td>\n",
       "      <td>4.764028e-01</td>\n",
       "      <td>4.678021e-01</td>\n",
       "      <td>4.696006e-01</td>\n",
       "      <td>0.0</td>\n",
       "      <td>4.730786e-01</td>\n",
       "      <td>2.770219e-01</td>\n",
       "      <td>4.774895e-01</td>\n",
       "      <td>6.428786e-03</td>\n",
       "      <td>4.757423e-03</td>\n",
       "    </tr>\n",
       "    <tr>\n",
       "      <th>min</th>\n",
       "      <td>0.000000e+00</td>\n",
       "      <td>0.000000e+00</td>\n",
       "      <td>0.000000e+00</td>\n",
       "      <td>0.000000e+00</td>\n",
       "      <td>0.000000e+00</td>\n",
       "      <td>0.000000e+00</td>\n",
       "      <td>0.000000e+00</td>\n",
       "      <td>0.000000e+00</td>\n",
       "      <td>0.000000e+00</td>\n",
       "      <td>0.000000e+00</td>\n",
       "      <td>0.000000e+00</td>\n",
       "      <td>0.0</td>\n",
       "      <td>0.000000e+00</td>\n",
       "      <td>0.000000e+00</td>\n",
       "      <td>0.000000e+00</td>\n",
       "      <td>0.000000e+00</td>\n",
       "      <td>0.000000e+00</td>\n",
       "    </tr>\n",
       "    <tr>\n",
       "      <th>25%</th>\n",
       "      <td>1.593596e+06</td>\n",
       "      <td>0.000000e+00</td>\n",
       "      <td>2.088949e-01</td>\n",
       "      <td>1.448374e-04</td>\n",
       "      <td>0.000000e+00</td>\n",
       "      <td>0.000000e+00</td>\n",
       "      <td>0.000000e+00</td>\n",
       "      <td>0.000000e+00</td>\n",
       "      <td>0.000000e+00</td>\n",
       "      <td>0.000000e+00</td>\n",
       "      <td>0.000000e+00</td>\n",
       "      <td>0.0</td>\n",
       "      <td>0.000000e+00</td>\n",
       "      <td>0.000000e+00</td>\n",
       "      <td>0.000000e+00</td>\n",
       "      <td>9.987614e-01</td>\n",
       "      <td>1.163413e-01</td>\n",
       "    </tr>\n",
       "    <tr>\n",
       "      <th>50%</th>\n",
       "      <td>3.184250e+06</td>\n",
       "      <td>0.000000e+00</td>\n",
       "      <td>3.207547e-01</td>\n",
       "      <td>8.099034e-04</td>\n",
       "      <td>2.384491e-04</td>\n",
       "      <td>0.000000e+00</td>\n",
       "      <td>3.727521e-04</td>\n",
       "      <td>6.026781e-04</td>\n",
       "      <td>0.000000e+00</td>\n",
       "      <td>0.000000e+00</td>\n",
       "      <td>0.000000e+00</td>\n",
       "      <td>0.0</td>\n",
       "      <td>1.000000e+00</td>\n",
       "      <td>0.000000e+00</td>\n",
       "      <td>0.000000e+00</td>\n",
       "      <td>9.999373e-01</td>\n",
       "      <td>1.164338e-01</td>\n",
       "    </tr>\n",
       "    <tr>\n",
       "      <th>75%</th>\n",
       "      <td>4.774905e+06</td>\n",
       "      <td>0.000000e+00</td>\n",
       "      <td>4.501348e-01</td>\n",
       "      <td>2.257778e-03</td>\n",
       "      <td>1.801042e-03</td>\n",
       "      <td>2.909313e-03</td>\n",
       "      <td>2.648861e-03</td>\n",
       "      <td>3.121768e-03</td>\n",
       "      <td>1.000000e+00</td>\n",
       "      <td>1.000000e+00</td>\n",
       "      <td>1.000000e+00</td>\n",
       "      <td>0.0</td>\n",
       "      <td>1.000000e+00</td>\n",
       "      <td>0.000000e+00</td>\n",
       "      <td>1.000000e+00</td>\n",
       "      <td>1.000000e+00</td>\n",
       "      <td>1.164338e-01</td>\n",
       "    </tr>\n",
       "    <tr>\n",
       "      <th>max</th>\n",
       "      <td>6.365560e+06</td>\n",
       "      <td>1.000000e+00</td>\n",
       "      <td>1.000000e+00</td>\n",
       "      <td>1.000000e+00</td>\n",
       "      <td>1.000000e+00</td>\n",
       "      <td>1.000000e+00</td>\n",
       "      <td>1.000000e+00</td>\n",
       "      <td>1.000000e+00</td>\n",
       "      <td>1.000000e+00</td>\n",
       "      <td>1.000000e+00</td>\n",
       "      <td>1.000000e+00</td>\n",
       "      <td>0.0</td>\n",
       "      <td>1.000000e+00</td>\n",
       "      <td>1.000000e+00</td>\n",
       "      <td>1.000000e+00</td>\n",
       "      <td>1.000000e+00</td>\n",
       "      <td>1.000000e+00</td>\n",
       "    </tr>\n",
       "  </tbody>\n",
       "</table>\n",
       "</div>"
      ],
      "text/plain": [
       "         Unnamed: 0       isfraud          step        amount  oldbalanceorg  \\\n",
       "count  6.362620e+06  6.362620e+06  6.362620e+06  6.362620e+06   6.362620e+06   \n",
       "mean   3.184236e+06  1.290820e-03  3.266809e-01  1.945599e-03   1.399484e-02   \n",
       "std    1.836756e+06  3.590480e-02  1.918221e-01  6.532045e-03   4.847261e-02   \n",
       "min    0.000000e+00  0.000000e+00  0.000000e+00  0.000000e+00   0.000000e+00   \n",
       "25%    1.593596e+06  0.000000e+00  2.088949e-01  1.448374e-04   0.000000e+00   \n",
       "50%    3.184250e+06  0.000000e+00  3.207547e-01  8.099034e-04   2.384491e-04   \n",
       "75%    4.774905e+06  0.000000e+00  4.501348e-01  2.257778e-03   1.801042e-03   \n",
       "max    6.365560e+06  1.000000e+00  1.000000e+00  1.000000e+00   1.000000e+00   \n",
       "\n",
       "       newbalanceorig  oldbalancedest  newbalancedest       morning  \\\n",
       "count    6.362620e+06    6.362620e+06    6.362620e+06  6.362620e+06   \n",
       "mean     1.724540e-02    3.091721e-03    3.439269e-03  3.482094e-01   \n",
       "std      5.897038e-02    9.547833e-03    1.031539e-02  4.764028e-01   \n",
       "min      0.000000e+00    0.000000e+00    0.000000e+00  0.000000e+00   \n",
       "25%      0.000000e+00    0.000000e+00    0.000000e+00  0.000000e+00   \n",
       "50%      0.000000e+00    3.727521e-04    6.026781e-04  0.000000e+00   \n",
       "75%      2.909313e-03    2.648861e-03    3.121768e-03  1.000000e+00   \n",
       "max      1.000000e+00    1.000000e+00    1.000000e+00  1.000000e+00   \n",
       "\n",
       "          afternoon       evening   OrigCust      DestCust      TRANSFER  \\\n",
       "count  6.362620e+06  6.362620e+06  6362620.0  6.362620e+06  6.362620e+06   \n",
       "mean   3.234744e-01  3.283162e-01        0.0  6.618539e-01  8.375622e-02   \n",
       "std    4.678021e-01  4.696006e-01        0.0  4.730786e-01  2.770219e-01   \n",
       "min    0.000000e+00  0.000000e+00        0.0  0.000000e+00  0.000000e+00   \n",
       "25%    0.000000e+00  0.000000e+00        0.0  0.000000e+00  0.000000e+00   \n",
       "50%    0.000000e+00  0.000000e+00        0.0  1.000000e+00  0.000000e+00   \n",
       "75%    1.000000e+00  1.000000e+00        0.0  1.000000e+00  0.000000e+00   \n",
       "max    1.000000e+00  1.000000e+00        0.0  1.000000e+00  1.000000e+00   \n",
       "\n",
       "           CASH_OUT  OrigAmountDiff  DestAmountDiff  \n",
       "count  6.362620e+06    6.362620e+06    6.362620e+06  \n",
       "mean   3.516633e-01    9.986284e-01    1.165040e-01  \n",
       "std    4.774895e-01    6.428786e-03    4.757423e-03  \n",
       "min    0.000000e+00    0.000000e+00    0.000000e+00  \n",
       "25%    0.000000e+00    9.987614e-01    1.163413e-01  \n",
       "50%    0.000000e+00    9.999373e-01    1.164338e-01  \n",
       "75%    1.000000e+00    1.000000e+00    1.164338e-01  \n",
       "max    1.000000e+00    1.000000e+00    1.000000e+00  "
      ]
     },
     "metadata": {},
     "output_type": "display_data"
    },
    {
     "data": {
      "text/plain": [
       "0    6354407\n",
       "1       8213\n",
       "Name: isfraud, dtype: int64"
      ]
     },
     "metadata": {},
     "output_type": "display_data"
    }
   ],
   "source": [
    "display(data.describe())\n",
    "display(data.isfraud.value_counts())"
   ]
  },
  {
   "cell_type": "code",
   "execution_count": 10,
   "metadata": {},
   "outputs": [],
   "source": [
    "# Set data locations\n",
    "\n",
    "prefix = 'sagemaker/linear-learner-bank-fraud-loss-weights'   \n",
    "s3_train_key = '{}/train/recordio-pb-data'.format(prefix)\n",
    "s3_train_path = os.path.join('s3://', bucket, s3_train_key)\n",
    "\n",
    "s3_validation_key = '{}/validation/recordio-pb-data'.format(prefix)\n",
    "s3_validation_path = os.path.join('s3://', bucket, s3_validation_key)"
   ]
  },
  {
   "cell_type": "code",
   "execution_count": 13,
   "metadata": {},
   "outputs": [],
   "source": [
    "#Read the data, shuffle, and split into train and test sets, separating the labels (last column) from the features\n",
    "rand_split = np.random.rand(len(data))\n",
    "train_list = rand_split < 0.8\n",
    "val_list = (rand_split >= 0.8) & (rand_split < 0.9)\n",
    "test_list = rand_split >= 0.9\n",
    "\n",
    "data_train = data[train_list]\n",
    "data_val = data[val_list]\n",
    "data_test = data[test_list]\n",
    "\n",
    "train_y = ((data_train.iloc[:,1] == 1) +0).to_numpy();\n",
    "train_X = data_train.iloc[:,2:].to_numpy();\n",
    "\n",
    "val_y = ((data_val.iloc[:,1] == 1) +0).to_numpy();\n",
    "val_X = data_val.iloc[:,2:].to_numpy();\n",
    "\n",
    "test_y = ((data_test.iloc[:,1] == 1) +0).to_numpy();\n",
    "test_X = data_test.iloc[:,2:].to_numpy();"
   ]
  },
  {
   "cell_type": "code",
   "execution_count": 14,
   "metadata": {},
   "outputs": [
    {
     "data": {
      "text/plain": [
       "array([0, 0, 0, ..., 1, 1, 1], dtype=int64)"
      ]
     },
     "execution_count": 14,
     "metadata": {},
     "output_type": "execute_result"
    }
   ],
   "source": [
    "val_y"
   ]
  },
  {
   "cell_type": "markdown",
   "metadata": {},
   "source": [
    "## CSV METHOD"
   ]
  },
  {
   "cell_type": "code",
   "execution_count": 15,
   "metadata": {},
   "outputs": [],
   "source": [
    "###create csv files as AWS Xgboost requires libSVM or CSV - \n",
    "#pd.concat([train_y, train_x], axis=1).to_csv('train.csv', index=False, header=False)\n",
    "#pd.concat([val_y, val_y], axis=1).to_csv('validation.csv', index=False, header=False)"
   ]
  },
  {
   "cell_type": "code",
   "execution_count": 16,
   "metadata": {},
   "outputs": [],
   "source": [
    "#boto3.Session().resource('s3').Bucket(bucket).Object(os.path.join(prefix, 'train/train.csv')).upload_file('train.csv')\n",
    "#boto3.Session().resource('s3').Bucket(bucket).Object(os.path.join(prefix, 'validation/validation.csv')).upload_file('validation.csv')"
   ]
  },
  {
   "cell_type": "code",
   "execution_count": 17,
   "metadata": {},
   "outputs": [],
   "source": [
    "###set up training input and  shard by S3Key\n",
    "##s3_input_validation = sagemaker.inputs.TrainingInput(s3_data='s3://{}/{}/validation'.format(bucket, prefix), content_type='csv')"
   ]
  },
  {
   "cell_type": "markdown",
   "metadata": {},
   "source": [
    "## RecordIO Method"
   ]
  },
  {
   "cell_type": "code",
   "execution_count": 22,
   "metadata": {},
   "outputs": [],
   "source": [
    "\n",
    "train_file = 'linear_train.data'\n",
    "\n",
    "f = io.BytesIO()\n",
    "smac.write_numpy_to_dense_tensor(f, train_X.astype('float32'), train_y.astype('float32'))\n",
    "f.seek(0)\n",
    "\n",
    "boto3.Session().resource('s3').Bucket(bucket).Object(os.path.join(prefix, 'train', train_file)).upload_fileobj(f)"
   ]
  },
  {
   "cell_type": "code",
   "execution_count": 23,
   "metadata": {},
   "outputs": [],
   "source": [
    "validation_file = 'linear_validation.data'\n",
    "\n",
    "f = io.BytesIO()\n",
    "smac.write_numpy_to_dense_tensor(f, val_X.astype('float32'), val_y.astype('float32'))\n",
    "f.seek(0)\n",
    "\n",
    "boto3.Session().resource('s3').Bucket(bucket).Object(os.path.join(prefix, 'validation', validation_file)).upload_fileobj(f)"
   ]
  },
  {
   "cell_type": "markdown",
   "metadata": {},
   "source": [
    "## Training Linear Learner"
   ]
  },
  {
   "cell_type": "code",
   "execution_count": 24,
   "metadata": {},
   "outputs": [
    {
     "data": {
      "text/plain": [
       "'382416733822.dkr.ecr.us-east-1.amazonaws.com/linear-learner:1'"
      ]
     },
     "metadata": {},
     "output_type": "display_data"
    }
   ],
   "source": [
    "###bring in container artifact\n",
    "container = sagemaker.image_uris.retrieve(\"linear-learner\", boto3.Session().region_name)\n",
    "display(container)"
   ]
  },
  {
   "cell_type": "code",
   "execution_count": 28,
   "metadata": {},
   "outputs": [
    {
     "name": "stdout",
     "output_type": "stream",
     "text": [
      "Job name is: linear-learner-fraud-2021-01-08-00-51-41\n"
     ]
    }
   ],
   "source": [
    "import time\n",
    "linear_job = 'linear-learner-fraud-' + time.strftime(\"%Y-%m-%d-%H-%M-%S\", time.gmtime())\n",
    "linear_job = 'linear-learner-fraud-2021-01-08-00-51-41'\n",
    "\n",
    "\n",
    "\n",
    "print(\"Job name is:\", linear_job)\n",
    "\n",
    "linear_training_params = {\n",
    "    \"RoleArn\": role,\n",
    "    \"TrainingJobName\": linear_job,\n",
    "    \"AlgorithmSpecification\": {\n",
    "        \"TrainingImage\": container,\n",
    "        \"TrainingInputMode\": \"File\"\n",
    "    },\n",
    "    \"ResourceConfig\": {\n",
    "        \"InstanceCount\": 1,\n",
    "        \"InstanceType\": \"ml.m5.4xlarge\",\n",
    "        \"VolumeSizeInGB\": 10\n",
    "    },\n",
    "    \"InputDataConfig\": [\n",
    "        {\n",
    "            \"ChannelName\": \"train\",\n",
    "            \"DataSource\": {\n",
    "                \"S3DataSource\": {\n",
    "                    \"S3DataType\": \"S3Prefix\",\n",
    "                    \"S3Uri\": \"s3://{}/{}/train/\".format(bucket, prefix),\n",
    "                    \"S3DataDistributionType\": \"ShardedByS3Key\"\n",
    "                }\n",
    "            },\n",
    "            \"CompressionType\": \"None\",\n",
    "            \"RecordWrapperType\": \"None\"\n",
    "        },\n",
    "        {\n",
    "            \"ChannelName\": \"validation\",\n",
    "            \"DataSource\": {\n",
    "                \"S3DataSource\": {\n",
    "                    \"S3DataType\": \"S3Prefix\",\n",
    "                    \"S3Uri\": \"s3://{}/{}/validation/\".format(bucket, prefix),\n",
    "                    \"S3DataDistributionType\": \"FullyReplicated\"\n",
    "                }\n",
    "            },\n",
    "            \"CompressionType\": \"None\",\n",
    "            \"RecordWrapperType\": \"None\"\n",
    "        }\n",
    "\n",
    "    ],\n",
    "    \"OutputDataConfig\": {\n",
    "        \"S3OutputPath\": \"s3://{}/{}/\".format(bucket, prefix)\n",
    "    },\n",
    "    \"HyperParameters\": {\n",
    "        \"feature_dim\": \"15\",\n",
    "        \"mini_batch_size\": \"100\",\n",
    "        \"predictor_type\": \"binary_classifier\",\n",
    "        \"epochs\": \"2\",\n",
    "        \"binary_classifier_model_selection_criteria\": \"precision_at_target_recall\",\n",
    "        \"target_recall\": \"0.9\",\n",
    "        \"positive_example_weight_mult\": \"balanced\"\n",
    "    },\n",
    "    \"StoppingCondition\": {\n",
    "        \"MaxRuntimeInSeconds\": 60 * 120\n",
    "    }\n",
    "}"
   ]
  },
  {
   "cell_type": "markdown",
   "metadata": {},
   "source": [
    "## Build Training Job Method"
   ]
  },
  {
   "cell_type": "code",
   "execution_count": 19,
   "metadata": {},
   "outputs": [
    {
     "name": "stdout",
     "output_type": "stream",
     "text": [
      "Completed\n",
      "CPU times: user 65.8 ms, sys: 3.61 ms, total: 69.4 ms\n",
      "Wall time: 120 ms\n"
     ]
    }
   ],
   "source": [
    "%%time\n",
    "\n",
    "region = boto3.Session().region_name\n",
    "sm = boto3.client('sagemaker')\n",
    "\n",
    "sm.create_training_job(**linear_training_params)\n",
    "\n",
    "status = sm.describe_training_job(TrainingJobName=linear_job)['TrainingJobStatus']\n",
    "print(status)\n",
    "sm.get_waiter('training_job_completed_or_stopped').wait(TrainingJobName=linear_job)\n",
    "if status == 'Failed':\n",
    "    message = sm.describe_training_job(TrainingJobName=linear_job)['FailureReason']\n",
    "    print('Training failed with the following error: {}'.format(message))\n",
    "    raise Exception('Training job failed')"
   ]
  },
  {
   "cell_type": "markdown",
   "metadata": {},
   "source": [
    "## HOST and Evaluate"
   ]
  },
  {
   "cell_type": "code",
   "execution_count": 31,
   "metadata": {},
   "outputs": [
    {
     "name": "stdout",
     "output_type": "stream",
     "text": [
      "arn:aws:sagemaker:us-east-1:246778806733:model/linear-learner-fraud-2021-01-08-00-51-41\n"
     ]
    }
   ],
   "source": [
    "###Host Model\n",
    "linear_hosting_container = {\n",
    "    'Image': container,\n",
    "    'ModelDataUrl': sm.describe_training_job(TrainingJobName=linear_job)['ModelArtifacts']['S3ModelArtifacts']\n",
    "}\n",
    "\n",
    "create_model_response = sm.create_model(\n",
    "    ModelName=linear_job,\n",
    "    ExecutionRoleArn=role,\n",
    "    PrimaryContainer=linear_hosting_container)\n",
    "\n",
    "print(create_model_response['ModelArn'])"
   ]
  },
  {
   "cell_type": "code",
   "execution_count": 32,
   "metadata": {},
   "outputs": [],
   "source": [
    "###set up endpoint autoscaling feature\n",
    "from time import strftime, gmtime\n",
    "timestamp = strftime(\"%Y-%m-%d-%H-%M-%S\", gmtime())\n",
    "\n",
    "model_name = linear_job\n",
    "linear_endpoint_config = 'linear-learner-fraud-epc' +timestamp\n",
    "linear_endpoint = 'linear-learner-fraud-' + time.strftime(\"%Y%m%d%H%M\", time.gmtime())\n",
    "\n",
    "production_variants = [{\n",
    "    'VariantName':'variant-1',\n",
    "    'ModelName':model_name,\n",
    "    'InstanceType':'ml.m5.xlarge',\n",
    "    'InitialVariantWeight':1,\n",
    "    'InitialInstanceCount':2,\n",
    "    \n",
    "}]"
   ]
  },
  {
   "cell_type": "code",
   "execution_count": 37,
   "metadata": {},
   "outputs": [
    {
     "name": "stdout",
     "output_type": "stream",
     "text": [
      "Endpoint Config Arn: arn:aws:sagemaker:us-east-1:246778806733:endpoint-config/linear-learner-fraud-epc2021-01-08-14-16-38\n"
     ]
    }
   ],
   "source": [
    "create_endpoint_config_response = sm.create_endpoint_config(\n",
    "    EndpointConfigName = linear_endpoint_config,\n",
    "    ProductionVariants = production_variants)\n",
    "\n",
    "print(\"Endpoint Config Arn: \" + create_endpoint_config_response['EndpointConfigArn'])"
   ]
  },
  {
   "cell_type": "code",
   "execution_count": 38,
   "metadata": {},
   "outputs": [
    {
     "name": "stdout",
     "output_type": "stream",
     "text": [
      "linear-learner-fraud-202101081416\n",
      "arn:aws:sagemaker:us-east-1:246778806733:endpoint/linear-learner-fraud-202101081416\n",
      "Status: Creating\n",
      "Arn: arn:aws:sagemaker:us-east-1:246778806733:endpoint/linear-learner-fraud-202101081416\n",
      "Status: InService\n",
      "CPU times: user 155 ms, sys: 8.54 ms, total: 163 ms\n",
      "Wall time: 6min 31s\n"
     ]
    }
   ],
   "source": [
    "\n",
    "%%time\n",
    "print(linear_endpoint)\n",
    "create_endpoint_response = sm.create_endpoint(\n",
    "    EndpointName=linear_endpoint,\n",
    "    EndpointConfigName=linear_endpoint_config)\n",
    "print(create_endpoint_response['EndpointArn'])\n",
    "\n",
    "resp = sm.describe_endpoint(EndpointName=linear_endpoint)\n",
    "status = resp['EndpointStatus']\n",
    "print(\"Status: \" + status)\n",
    "\n",
    "sm.get_waiter('endpoint_in_service').wait(EndpointName=linear_endpoint)\n",
    "\n",
    "resp = sm.describe_endpoint(EndpointName=linear_endpoint)\n",
    "status = resp['EndpointStatus']\n",
    "print(\"Arn: \" + resp['EndpointArn'])\n",
    "print(\"Status: \" + status)\n",
    "\n",
    "if status != 'InService':\n",
    "    raise Exception('Endpoint creation did not succeed')"
   ]
  },
  {
   "cell_type": "code",
   "execution_count": 39,
   "metadata": {},
   "outputs": [
    {
     "name": "stdout",
     "output_type": "stream",
     "text": [
      "endpoint/linear-learner-fraud-202101081416/variant/variant-1\n"
     ]
    }
   ],
   "source": [
    "#print(endpoint_name)\n",
    "ResourceId='endpoint/'+linear_endpoint+'/variant/variant-1'\n",
    "print(ResourceId)"
   ]
  },
  {
   "cell_type": "code",
   "execution_count": 40,
   "metadata": {},
   "outputs": [],
   "source": [
    "app2 = boto3.client('application-autoscaling')"
   ]
  },
  {
   "cell_type": "code",
   "execution_count": 41,
   "metadata": {},
   "outputs": [
    {
     "data": {
      "text/plain": [
       "{'ResponseMetadata': {'RequestId': 'd00ead0e-6e62-4127-a2f2-b6653d3d8600',\n",
       "  'HTTPStatusCode': 200,\n",
       "  'HTTPHeaders': {'x-amzn-requestid': 'd00ead0e-6e62-4127-a2f2-b6653d3d8600',\n",
       "   'content-type': 'application/x-amz-json-1.1',\n",
       "   'content-length': '2',\n",
       "   'date': 'Fri, 08 Jan 2021 14:25:10 GMT'},\n",
       "  'RetryAttempts': 0}}"
      ]
     },
     "execution_count": 41,
     "metadata": {},
     "output_type": "execute_result"
    }
   ],
   "source": [
    "###register a policy once endpoint is created\n",
    "app2.register_scalable_target(\n",
    "    ServiceNamespace ='sagemaker',\n",
    "    ResourceId = ResourceId,\n",
    "    ScalableDimension= 'sagemaker:variant:DesiredInstanceCount',\n",
    "    MinCapacity=2,\n",
    "    MaxCapacity=10)"
   ]
  },
  {
   "cell_type": "code",
   "execution_count": 42,
   "metadata": {},
   "outputs": [],
   "source": [
    "policy_name ='linear-learner-scaling-policy' #name policy"
   ]
  },
  {
   "cell_type": "code",
   "execution_count": 43,
   "metadata": {},
   "outputs": [
    {
     "data": {
      "text/plain": [
       "{'PolicyARN': 'arn:aws:autoscaling:us-east-1:246778806733:scalingPolicy:1e8d3858-6fc7-4a52-af5a-3bf30100406c:resource/sagemaker/endpoint/linear-learner-fraud-202101081416/variant/variant-1:policyName/linear-learner-scaling-policy',\n",
       " 'Alarms': [{'AlarmName': 'TargetTracking-endpoint/linear-learner-fraud-202101081416/variant/variant-1-AlarmHigh-d1199047-b25a-436f-b198-0cdebe6156df',\n",
       "   'AlarmARN': 'arn:aws:cloudwatch:us-east-1:246778806733:alarm:TargetTracking-endpoint/linear-learner-fraud-202101081416/variant/variant-1-AlarmHigh-d1199047-b25a-436f-b198-0cdebe6156df'},\n",
       "  {'AlarmName': 'TargetTracking-endpoint/linear-learner-fraud-202101081416/variant/variant-1-AlarmLow-41261d4b-42c3-44a5-9a8d-9c7f0bbcb4bc',\n",
       "   'AlarmARN': 'arn:aws:cloudwatch:us-east-1:246778806733:alarm:TargetTracking-endpoint/linear-learner-fraud-202101081416/variant/variant-1-AlarmLow-41261d4b-42c3-44a5-9a8d-9c7f0bbcb4bc'}],\n",
       " 'ResponseMetadata': {'RequestId': 'bbf30014-d274-40cf-98fb-7ed5336a3981',\n",
       "  'HTTPStatusCode': 200,\n",
       "  'HTTPHeaders': {'x-amzn-requestid': 'bbf30014-d274-40cf-98fb-7ed5336a3981',\n",
       "   'content-type': 'application/x-amz-json-1.1',\n",
       "   'content-length': '885',\n",
       "   'date': 'Fri, 08 Jan 2021 14:25:28 GMT'},\n",
       "  'RetryAttempts': 0}}"
      ]
     },
     "execution_count": 43,
     "metadata": {},
     "output_type": "execute_result"
    }
   ],
   "source": [
    "###apply poliy to target \n",
    "app2.put_scaling_policy(\n",
    "    PolicyName=policy_name,\n",
    "    ServiceNamespace = 'sagemaker',\n",
    "    ResourceId = ResourceId,\n",
    "    ScalableDimension= 'sagemaker:variant:DesiredInstanceCount',\n",
    "    PolicyType = 'TargetTrackingScaling',\n",
    "    TargetTrackingScalingPolicyConfiguration={\n",
    "        'TargetValue': 1000.0,\n",
    "        'PredefinedMetricSpecification':{\n",
    "            'PredefinedMetricType':'SageMakerVariantInvocationsPerInstance'},\n",
    "        'ScaleInCooldown': 60,\n",
    "        'ScaleOutCooldown': 60\n",
    "    }\n",
    "    \n",
    ")"
   ]
  },
  {
   "cell_type": "markdown",
   "metadata": {},
   "source": [
    "## Create Test Data"
   ]
  },
  {
   "cell_type": "code",
   "execution_count": 104,
   "metadata": {},
   "outputs": [],
   "source": [
    "###get test data in correct format to invoke endpoint to evaluate\n",
    "##tested 1000 items\n",
    "\n",
    "test_X = data_test.iloc[:,2:];\n",
    "test_y = ((data_test.iloc[:,1] == 1) +0);\n",
    "\n",
    "test_data_tail = test_X.tail(100)\n",
    "\n",
    "test_data_tail.to_csv('test_data_tail.csv',header =False, index=False)\n"
   ]
  },
  {
   "cell_type": "code",
   "execution_count": 94,
   "metadata": {},
   "outputs": [],
   "source": [
    "runtime_client = boto3.Session().client('runtime.sagemaker')"
   ]
  },
  {
   "cell_type": "code",
   "execution_count": 95,
   "metadata": {},
   "outputs": [
    {
     "name": "stdout",
     "output_type": "stream",
     "text": [
      "Sending test traffic to the endpoint linear-learner-fraud-202101081416. \n",
      "Please wait...\n",
      "....................................................................................................Done!\n",
      "[[0], [0], [0], [0], [0], [0], [0], [0], [0], [0], [0], [0], [0], [0], [0], [0], [1], [0], [0], [0], [0], [0], [0], [0], [0], [0], [0], [0], [0], [0], [1], [0], [0], [0], [0], [0], [0], [0], [0], [0], [0], [0], [0], [0], [0], [0], [0], [0], [0], [0], [0], [0], [0], [0], [0], [0], [0], [0], [0], [0], [0], [0], [0], [0], [0], [0], [0], [1], [0], [0], [0], [0], [0], [1], [0], [0], [0], [1], [1], [1], [1], [1], [1], [1], [1], [1], [0], [0], [1], [1], [1], [1], [1], [1], [1], [1], [0], [1], [1], [1]]\n"
     ]
    }
   ],
   "source": [
    "##invoke endpoint\n",
    "import time\n",
    "print(f\"Sending test traffic to the endpoint {linear_endpoint}. \\nPlease wait...\")\n",
    "\n",
    "predictions = []\n",
    "\n",
    "with open('test_data_tail.csv', 'r') as f:\n",
    "    for row in f:\n",
    "        print(\".\", sep=',', end='', flush=True)\n",
    "        payload = row.rstrip('\\n')\n",
    "        response = runtime_client.invoke_endpoint(EndpointName=linear_endpoint,\n",
    "                                       ContentType=\"text/csv\",\n",
    "                                       Accept='Accept',\n",
    "                                       Body=payload)\n",
    "        result = json.loads(response['Body'].read().decode())\n",
    "        preds =  [r['predicted_label'] for r in result['predictions']]\n",
    "        predictions.append(preds)\n",
    "        time.sleep(0.5)\n",
    "\n",
    "         \n",
    "        \n",
    "print(\"Done!\")\n",
    "\n",
    "print(predictions)"
   ]
  },
  {
   "cell_type": "code",
   "execution_count": 132,
   "metadata": {},
   "outputs": [
    {
     "data": {
      "text/plain": [
       "pandas.core.series.Series"
      ]
     },
     "execution_count": 132,
     "metadata": {},
     "output_type": "execute_result"
    }
   ],
   "source": [
    "#Convert our predictions to a numpy array\n",
    "predsnp = pd.Series( (v[0] for v in predictions) )\n",
    "        \n",
    "len(predsnp)\n",
    "type(predsnp)"
   ]
  },
  {
   "cell_type": "markdown",
   "metadata": {},
   "source": [
    "## Evaluation of test Results"
   ]
  },
  {
   "cell_type": "code",
   "execution_count": 117,
   "metadata": {},
   "outputs": [
    {
     "data": {
      "text/plain": [
       "numpy.ndarray"
      ]
     },
     "execution_count": 117,
     "metadata": {},
     "output_type": "execute_result"
    }
   ],
   "source": [
    "import matplotlib.pyplot as plt\n",
    "import pandas as pd\n",
    "from sklearn import metrics\n",
    "from sklearn.metrics import roc_auc_score\n",
    "\n",
    "test_actuals = test_y.tail(100)\n",
    "test_actuals = test_actuals.to_numpy()\n",
    "\n",
    "len(test_actuals)\n",
    "type(test_actuals)"
   ]
  },
  {
   "cell_type": "code",
   "execution_count": 134,
   "metadata": {},
   "outputs": [],
   "source": [
    "import pandas as pd \n",
    "y_actu = pd.Series(test_actuals)\n",
    "y_pred = predsnp\n"
   ]
  },
  {
   "cell_type": "code",
   "execution_count": 137,
   "metadata": {},
   "outputs": [
    {
     "data": {
      "text/html": [
       "<div>\n",
       "<style scoped>\n",
       "    .dataframe tbody tr th:only-of-type {\n",
       "        vertical-align: middle;\n",
       "    }\n",
       "\n",
       "    .dataframe tbody tr th {\n",
       "        vertical-align: top;\n",
       "    }\n",
       "\n",
       "    .dataframe thead th {\n",
       "        text-align: right;\n",
       "    }\n",
       "</style>\n",
       "<table border=\"1\" class=\"dataframe\">\n",
       "  <thead>\n",
       "    <tr style=\"text-align: right;\">\n",
       "      <th>predictions</th>\n",
       "      <th>0</th>\n",
       "      <th>1</th>\n",
       "    </tr>\n",
       "    <tr>\n",
       "      <th>actuals</th>\n",
       "      <th></th>\n",
       "      <th></th>\n",
       "    </tr>\n",
       "  </thead>\n",
       "  <tbody>\n",
       "    <tr>\n",
       "      <th>0</th>\n",
       "      <td>0.985915</td>\n",
       "      <td>0.034483</td>\n",
       "    </tr>\n",
       "    <tr>\n",
       "      <th>1</th>\n",
       "      <td>0.084507</td>\n",
       "      <td>0.793103</td>\n",
       "    </tr>\n",
       "  </tbody>\n",
       "</table>\n",
       "</div>"
      ],
      "text/plain": [
       "predictions         0         1\n",
       "actuals                        \n",
       "0            0.985915  0.034483\n",
       "1            0.084507  0.793103"
      ]
     },
     "execution_count": 137,
     "metadata": {},
     "output_type": "execute_result"
    }
   ],
   "source": [
    "###set up confusion matrix\n",
    "from sklearn.metrics import confusion_matrix\n",
    "df_confusion = pd.crosstab(index=y_actu, columns=y_pred, rownames=['actuals'], colnames=['predictions'])\n",
    "df_conf_norm = df_confusion / df_confusion.sum(axis=1)\n",
    "df_conf_norm"
   ]
  },
  {
   "cell_type": "code",
   "execution_count": 138,
   "metadata": {},
   "outputs": [
    {
     "name": "stdout",
     "output_type": "stream",
     "text": [
      "Accuracy: 0.93\n",
      "Precision: 0.9583333333333334\n",
      "Recall: 0.7931034482758621\n",
      "F1 Score: 0.8679245283018867\n",
      "AUC is 0.8895\n"
     ]
    },
    {
     "data": {
      "image/png": "[encoded data removed]",
      "text/plain": [
       "<Figure size 432x288 with 1 Axes>"
      ]
     },
     "metadata": {
      "needs_background": "light"
     },
     "output_type": "display_data"
    }
   ],
   "source": [
    "# Calculate accuracy\n",
    "accuracy = sum(y_pred == y_actu) / len(y_pred)\n",
    "print(f'Accuracy: {accuracy}')\n",
    "\n",
    "# Calculate precision\n",
    "precision = sum(y_pred[y_pred == 1] == y_actu[y_pred == 1]) / len(y_pred[y_pred == 1])\n",
    "print(f'Precision: {precision}')\n",
    "\n",
    "# Calculate recall\n",
    "recall = sum(y_pred[y_pred == 1] == y_actu[y_pred == 1]) / len(y_actu[y_actu == 1])\n",
    "print(f'Recall: {recall}')\n",
    "\n",
    "# Calculate F1 score\n",
    "f1_score = 2 * (precision * recall) / (precision + recall)\n",
    "print(f'F1 Score: {f1_score}')\n",
    "\n",
    "# Calculate AUC\n",
    "auc = round(roc_auc_score(y_actu, y_pred), 4)\n",
    "print('AUC is ' + repr(auc))\n",
    "\n",
    "fpr, tpr, _ = metrics.roc_curve(y_actu, y_pred)\n",
    "\n",
    "plt.title('ROC Curve')\n",
    "plt.plot(fpr, tpr, 'b',\n",
    "label='AUC = %0.2f'% auc)\n",
    "plt.legend(loc='lower right')\n",
    "plt.plot([0,1],[0,1],'r--')\n",
    "plt.xlim([-0.1,1.1])\n",
    "plt.ylim([-0.1,1.1])\n",
    "plt.ylabel('True Positive Rate')\n",
    "plt.xlabel('False Positive Rate')\n",
    "plt.show()"
   ]
  },
  {
   "cell_type": "code",
   "execution_count": 139,
   "metadata": {},
   "outputs": [
    {
     "data": {
      "image/png": "[encoded data removed]",
      "text/plain": [
       "<Figure size 288x288 with 2 Axes>"
      ]
     },
     "metadata": {
      "needs_background": "light"
     },
     "output_type": "display_data"
    }
   ],
   "source": [
    "import matplotlib.pyplot as plt\n",
    "def plot_confusion_matrix(df_confusion, title='Confusion matrix', cmap=plt.cm.gray_r):\n",
    "    plt.matshow(df_confusion, cmap=cmap) # imshow\n",
    "    #plt.title(title)\n",
    "    plt.colorbar()\n",
    "    tick_marks = np.arange(len(df_confusion.columns))\n",
    "    plt.xticks(tick_marks, df_confusion.columns, rotation=45)\n",
    "    plt.yticks(tick_marks, df_confusion.index)\n",
    "    #plt.tight_layout()\n",
    "    plt.ylabel(df_confusion.index.name)\n",
    "    plt.xlabel(df_confusion.columns.name)\n",
    "\n",
    "plot_confusion_matrix(df_conf_norm)"
   ]
  },
  {
   "cell_type": "markdown",
   "metadata": {},
   "source": [
    "## DETELE ALL ENDPOINTS"
   ]
  },
  {
   "cell_type": "code",
   "execution_count": 106,
   "metadata": {},
   "outputs": [
    {
     "data": {
      "text/plain": [
       "{'ResponseMetadata': {'RequestId': 'bba6d8f9-724f-4acd-857a-74b01e6e08a1',\n",
       "  'HTTPStatusCode': 200,\n",
       "  'HTTPHeaders': {'x-amzn-requestid': 'bba6d8f9-724f-4acd-857a-74b01e6e08a1',\n",
       "   'content-type': 'application/x-amz-json-1.1',\n",
       "   'content-length': '0',\n",
       "   'date': 'Tue, 05 Jan 2021 19:24:10 GMT'},\n",
       "  'RetryAttempts': 0}}"
      ]
     },
     "execution_count": 106,
     "metadata": {},
     "output_type": "execute_result"
    }
   ],
   "source": [
    "####to save cost and delete since this is a demo-project\n",
    "app2.delete_scaling_policy(\n",
    "    PolicyName=policy_name,\n",
    "    ServiceNamespace = 'sagemaker',\n",
    "    ResourceId = 'endpoint/xgboost-bankfraud/variant/variant-1',\n",
    "    ScalableDimension= 'sagemaker:variant:DesiredInstanceCount',\n",
    ")\n",
    "sm.delete_endpoint(EndpointName=endpoint_name)"
   ]
  },
  {
   "cell_type": "code",
   "execution_count": 107,
   "metadata": {},
   "outputs": [
    {
     "data": {
      "text/plain": [
       "{'ResponseMetadata': {'RequestId': '2f72459a-9b2c-4d1a-82c9-078c181ee6d9',\n",
       "  'HTTPStatusCode': 200,\n",
       "  'HTTPHeaders': {'x-amzn-requestid': '2f72459a-9b2c-4d1a-82c9-078c181ee6d9',\n",
       "   'content-type': 'application/x-amz-json-1.1',\n",
       "   'content-length': '0',\n",
       "   'date': 'Tue, 05 Jan 2021 19:24:12 GMT'},\n",
       "  'RetryAttempts': 0}}"
      ]
     },
     "execution_count": 107,
     "metadata": {},
     "output_type": "execute_result"
    }
   ],
   "source": [
    "sm.delete_endpoint_config(\n",
    "    EndpointConfigName=endpoint_config_name)"
   ]
  }
 ],
 "metadata": {
  "kernelspec": {
   "display_name": "conda_python3",
   "language": "python",
   "name": "conda_python3"
  },
  "language_info": {
   "codemirror_mode": {
    "name": "ipython",
    "version": 3
   },
   "file_extension": ".py",
   "mimetype": "text/x-python",
   "name": "python",
   "nbconvert_exporter": "python",
   "pygments_lexer": "ipython3",
   "version": "3.6.10"
  }
 },
 "nbformat": 4,
 "nbformat_minor": 4
}
