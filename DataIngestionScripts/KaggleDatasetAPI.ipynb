{
 "cells": [
  {
   "cell_type": "code",
   "execution_count": null,
   "metadata": {},
   "outputs": [],
   "source": [
    "###to get data onto EC2 Server\n",
    "###obtain data using Kaggle API\n",
    "##if not installed set up Kaggle enviroment and API Key\n",
    "#!pip install kaggle\n",
    "\n",
    "#!kaggle datasets download -d ntnu-testimon/paysim1\n",
    "#!python3 install unzip -y\n",
    "#!unzip -o paysim1.zip\n",
    "#!head './PS_20174392719_1491204439457_log.csv'\n",
    "\n",
    "!python3 - m pip install kaggle --user\n",
    "kaggle datasets list datasets download -d ntni-testimon/paysim1"
   ]
  }
 ],
 "metadata": {
  "kernelspec": {
   "display_name": "conda_python3",
   "language": "python",
   "name": "conda_python3"
  },
  "language_info": {
   "codemirror_mode": {
    "name": "ipython",
    "version": 3
   },
   "file_extension": ".py",
   "mimetype": "text/x-python",
   "name": "python",
   "nbconvert_exporter": "python",
   "pygments_lexer": "ipython3",
   "version": "3.6.10"
  }
 },
 "nbformat": 4,
 "nbformat_minor": 4
}
